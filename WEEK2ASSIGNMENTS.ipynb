{
 "cells": [
  {
   "cell_type": "code",
   "execution_count": 1,
   "id": "b346125e-06e4-4f04-b259-5edab6f9e567",
   "metadata": {},
   "outputs": [
    {
     "name": "stdout",
     "output_type": "stream",
     "text": [
      "Sorted List: [10, 15, 20, 30, 40, 50, 60]\n",
      "Index of 30: 3\n"
     ]
    }
   ],
   "source": [
    "def main():\n",
    "    \n",
    "    my_list = []\n",
    "    \n",
    "    \n",
    "    my_list.append(10)\n",
    "    my_list.append(20)\n",
    "    my_list.append(30)\n",
    "    my_list.append(40)\n",
    "    \n",
    "    my_list.insert(1, 15)\n",
    "    \n",
    "  \n",
    "    my_list.extend([50, 60, 70])\n",
    "    \n",
    "   \n",
    "    my_list.pop()\n",
    "    \n",
    "   \n",
    "    my_list.sort()\n",
    "    \n",
    "   \n",
    "    index_30 = my_list.index(30)\n",
    "    print(\"Sorted List:\", my_list)\n",
    "    print(\"Index of 30:\", index_30)\n",
    "\n",
    "if __name__ == \"__main__\":\n",
    "    main()\n"
   ]
  },
  {
   "cell_type": "code",
   "execution_count": null,
   "id": "16c08587-40d4-4dc4-91c6-5e499f0262f1",
   "metadata": {},
   "outputs": [],
   "source": []
  }
 ],
 "metadata": {
  "kernelspec": {
   "display_name": "Python 3 (ipykernel)",
   "language": "python",
   "name": "python3"
  },
  "language_info": {
   "codemirror_mode": {
    "name": "ipython",
    "version": 3
   },
   "file_extension": ".py",
   "mimetype": "text/x-python",
   "name": "python",
   "nbconvert_exporter": "python",
   "pygments_lexer": "ipython3",
   "version": "3.11.7"
  }
 },
 "nbformat": 4,
 "nbformat_minor": 5
}
