{
 "cells": [
  {
   "cell_type": "code",
   "execution_count": 3,
   "id": "2661e897-2677-4ff2-85c2-f932c8b16ed7",
   "metadata": {},
   "outputs": [
    {
     "name": "stdout",
     "output_type": "stream",
     "text": [
      "True\n",
      "False\n"
     ]
    }
   ],
   "source": [
    "def power(base, exponent):\n",
    "    # Calculate base raised to the power of exponent\n",
    "    result = base ** exponent\n",
    "    \n",
    "    # Check if the result is greater than 5000\n",
    "    if result > 5000:\n",
    "        return True\n",
    "    else:\n",
    "        return False\n",
    "\n",
    "# Example usage\n",
    "print(power(10, 10)) \n",
    "print(power(2, 10)) \n"
   ]
  },
  {
   "cell_type": "code",
   "execution_count": 4,
   "id": "1015deeb-a3c4-43a3-b2ab-68a00fd092b6",
   "metadata": {},
   "outputs": [
    {
     "name": "stdout",
     "output_type": "stream",
     "text": [
      "True\n",
      "False\n"
     ]
    }
   ],
   "source": [
    "def divisible_by_ten(num):\n",
    "    # Check if num is divisible by 10\n",
    "    if num % 10 == 0:\n",
    "        return True\n",
    "    else:\n",
    "        return False\n",
    "\n",
    "# Example \n",
    "print(divisible_by_ten(50)) \n",
    "print(divisible_by_ten(23))  \n"
   ]
  },
  {
   "cell_type": "code",
   "execution_count": null,
   "id": "21b8e2ca-0bdf-4d24-ad66-c02c4b1d2dfd",
   "metadata": {},
   "outputs": [],
   "source": []
  }
 ],
 "metadata": {
  "kernelspec": {
   "display_name": "Python 3 (ipykernel)",
   "language": "python",
   "name": "python3"
  },
  "language_info": {
   "codemirror_mode": {
    "name": "ipython",
    "version": 3
   },
   "file_extension": ".py",
   "mimetype": "text/x-python",
   "name": "python",
   "nbconvert_exporter": "python",
   "pygments_lexer": "ipython3",
   "version": "3.11.7"
  }
 },
 "nbformat": 4,
 "nbformat_minor": 5
}
