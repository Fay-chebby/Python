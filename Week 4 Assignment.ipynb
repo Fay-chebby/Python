{
 "cells": [
  {
   "cell_type": "code",
   "execution_count": 4,
   "id": "d04194b4-9920-4b08-b81f-ab2bdd84ea2c",
   "metadata": {},
   "outputs": [
    {
     "name": "stdout",
     "output_type": "stream",
     "text": [
      "'input.txt' has been created with sample content.\n"
     ]
    }
   ],
   "source": [
    "# Create and write to input.txt\n",
    "with open('input.txt', 'w') as infile:\n",
    "    infile.write(\"Learning Python is fun.\\n\")\n",
    "    infile.write(\"Files are useful for storing data.\\n\")\n",
    "   \n",
    "\n",
    "print(\"'input.txt' has been created with sample content.\")\n"
   ]
  },
  {
   "cell_type": "code",
   "execution_count": 3,
   "id": "f466ae22-cc47-4b2b-8acc-a8e962e8dc86",
   "metadata": {},
   "outputs": [
    {
     "name": "stdin",
     "output_type": "stream",
     "text": [
      " Enter the filename you want to read:  input.txt\n"
     ]
    },
    {
     "name": "stdout",
     "output_type": "stream",
     "text": [
      " File 'input.txt' was read successfully and written to 'modified_input.txt'.\n"
     ]
    }
   ],
   "source": [
    "def modify_file_content(filename):\n",
    "    try:\n",
    "        \n",
    "        with open(filename, 'r') as file:\n",
    "            content = file.read()\n",
    "        \n",
    "       \n",
    "        modified_content = content.upper()\n",
    "\n",
    "       \n",
    "        new_filename = f\"modified_{filename}\"\n",
    "\n",
    "        \n",
    "        with open(new_filename, 'w') as new_file:\n",
    "            new_file.write(modified_content)\n",
    "\n",
    "        print(f\" File '{filename}' was read successfully and written to '{new_filename}'.\")\n",
    "    \n",
    "    except FileNotFoundError:\n",
    "        print(f\" Error: The file '{filename}' was not found.\")\n",
    "    except IOError:\n",
    "        print(f\"Error: Could not read or write the file '{filename}'.\")\n",
    "\n",
    "# Ask the user for a filename\n",
    "user_file = input(\" Enter the filename you want to read: \")\n",
    "modify_file_content(user_file)\n"
   ]
  },
  {
   "cell_type": "code",
   "execution_count": null,
   "id": "34b502b1-9568-4ef7-ac65-5199b07ffb53",
   "metadata": {},
   "outputs": [],
   "source": []
  }
 ],
 "metadata": {
  "kernelspec": {
   "display_name": "Python 3 (ipykernel)",
   "language": "python",
   "name": "python3"
  },
  "language_info": {
   "codemirror_mode": {
    "name": "ipython",
    "version": 3
   },
   "file_extension": ".py",
   "mimetype": "text/x-python",
   "name": "python",
   "nbconvert_exporter": "python",
   "pygments_lexer": "ipython3",
   "version": "3.11.7"
  }
 },
 "nbformat": 4,
 "nbformat_minor": 5
}
