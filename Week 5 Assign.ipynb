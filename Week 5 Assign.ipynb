{
 "cells": [
  {
   "cell_type": "code",
   "execution_count": 1,
   "id": "beedccad-980b-4a02-ba20-28cb21e155bb",
   "metadata": {},
   "outputs": [
    {
     "name": "stdout",
     "output_type": "stream",
     "text": [
      "Brand: Samsung\n",
      "Model: Galaxy S21\n",
      "Battery Life: 20 hours\n",
      "Camera Quality: 108 MP\n",
      "Used 5 hours of battery. Remaining battery: 15 hours.\n",
      "Remaining battery: 15 hours\n"
     ]
    }
   ],
   "source": [
    "class Smartphone:\n",
    "    def __init__(self, brand, model, battery_life):\n",
    "        self.__brand = brand \n",
    "        self.__model = model  \n",
    "        self.__battery_life = battery_life  \n",
    "    \n",
    "  \n",
    "    def display_info(self):\n",
    "        print(f\"Brand: {self.__brand}\")\n",
    "        print(f\"Model: {self.__model}\")\n",
    "        print(f\"Battery Life: {self.__battery_life} hours\")\n",
    "\n",
    "    def use_battery(self, hours):\n",
    "        if hours <= self.__battery_life:\n",
    "            self.__battery_life -= hours\n",
    "            print(f\"Used {hours} hours of battery. Remaining battery: {self.__battery_life} hours.\")\n",
    "        else:\n",
    "            print(\"Not enough battery for this usage.\")\n",
    "    \n",
    "   \n",
    "    def get_battery(self):\n",
    "        return self.__battery_life\n",
    "\n",
    "\n",
    "class AdvancedSmartphone(Smartphone):\n",
    "    def __init__(self, brand, model, battery_life, camera_quality):\n",
    "        super().__init__(brand, model, battery_life)\n",
    "        self.camera_quality = camera_quality \n",
    "    \n",
    "   \n",
    "    def display_info(self):\n",
    "        super().display_info()  \n",
    "        print(f\"Camera Quality: {self.camera_quality} MP\")\n",
    "\n",
    "# Creating an object of AdvancedSmartphone\n",
    "phone = AdvancedSmartphone(\"Samsung\", \"Galaxy S21\", 24, 108)\n",
    "phone.display_info()\n",
    "phone.use_battery(5)\n",
    "print(f\"Remaining battery: {phone.get_battery()} hours\")\n"
   ]
  },
  {
   "cell_type": "code",
   "execution_count": null,
   "id": "845d29a4-7ab6-42c9-8416-cbd300857a6b",
   "metadata": {},
   "outputs": [],
   "source": [
    "class Animal:\n",
    "    def move(self):\n",
    "        raise NotImplementedError(\"Subclass must implement this method\")\n",
    "\n",
    "class Dog(Animal):\n",
    "    def move(self):\n",
    "        print(\"The dog is running \")\n",
    "\n",
    "class Bird(Animal):\n",
    "    def move(self):\n",
    "        print(\"The bird is flying \")\n",
    "\n",
    "class Fish(Animal):\n",
    "    def move(self):\n",
    "        print(\"The fish is swimming \")\n",
    "\n",
    "# Function to test polymorphism\n",
    "def test_move(animal):\n",
    "    animal.move()\n",
    "\n",
    "# Creating objects of each animal\n",
    "dog = Dog()\n",
    "bird = Bird()\n",
    "fish = Fish()\n",
    "\n",
    "# Testing polymorphism\n",
    "test_move(dog)   # Output: The dog is running \n",
    "test_move(bird)  # Output: The bird is flying \n",
    "test_move(fish)  # Output: The fish is swimming \n"
   ]
  }
 ],
 "metadata": {
  "kernelspec": {
   "display_name": "Python 3 (ipykernel)",
   "language": "python",
   "name": "python3"
  },
  "language_info": {
   "codemirror_mode": {
    "name": "ipython",
    "version": 3
   },
   "file_extension": ".py",
   "mimetype": "text/x-python",
   "name": "python",
   "nbconvert_exporter": "python",
   "pygments_lexer": "ipython3",
   "version": "3.11.7"
  }
 },
 "nbformat": 4,
 "nbformat_minor": 5
}
