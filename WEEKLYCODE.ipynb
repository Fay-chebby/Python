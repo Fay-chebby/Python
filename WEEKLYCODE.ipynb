{
 "cells": [
  {
   "cell_type": "code",
   "execution_count": 1,
   "id": "11a059a1-a97d-4f80-a7b1-902ed93ef34a",
   "metadata": {},
   "outputs": [
    {
     "name": "stdin",
     "output_type": "stream",
     "text": [
      "How many numbers do you want to enter?  4\n",
      "Enter number 1:  2\n",
      "Enter number 2:  4\n",
      "Enter number 3:  6\n",
      "Enter number 4:  7\n"
     ]
    },
    {
     "name": "stdout",
     "output_type": "stream",
     "text": [
      "The sum of the numbers is: 19\n"
     ]
    }
   ],
   "source": [
    "def main():\n",
    "    numbers = []\n",
    "    count = int(input(\"How many numbers do you want to enter? \"))\n",
    "    \n",
    "    for i in range(count):\n",
    "        num = int(input(f\"Enter number {i+1}: \"))\n",
    "        numbers.append(num)\n",
    "    \n",
    "    total = sum(numbers)\n",
    "    print(f\"The sum of the numbers is: {total}\")\n",
    "\n",
    "if __name__ == \"__main__\":\n",
    "    main()\n"
   ]
  },
  {
   "cell_type": "code",
   "execution_count": 3,
   "id": "2ff53574-ac25-498e-bd91-8fc1e5ea6961",
   "metadata": {},
   "outputs": [
    {
     "name": "stdout",
     "output_type": "stream",
     "text": [
      "('Atomic Habits', 'Waiting and dating', 'Five love languages', 'Purpose', \"God's General\")\n",
      "Atomic Habits\n",
      "Waiting and dating\n",
      "Five love languages\n",
      "Purpose\n",
      "God's General\n"
     ]
    }
   ],
   "source": [
    "my_tuple=(\"Atomic Habits\",\"Waiting and dating\",\"Five love languages\",\"Purpose\",\"God's General\")\n",
    "print(my_tuple)\n",
    "for books in my_tuple:\n",
    "    print(books)"
   ]
  },
  {
   "cell_type": "code",
   "execution_count": 4,
   "id": "49a518e7-389a-47c6-9e68-2ffbfec83e9a",
   "metadata": {},
   "outputs": [
    {
     "name": "stdin",
     "output_type": "stream",
     "text": [
      "Enter your name:  chebby\n",
      "Enter your age:  12\n",
      "Enter your favorite color:  black\n"
     ]
    },
    {
     "name": "stdout",
     "output_type": "stream",
     "text": [
      "\n",
      "Person Information:\n",
      "{'name': 'chebby', 'age': 12, 'favorite_color': 'black'}\n"
     ]
    }
   ],
   "source": [
    "def main():\n",
    "    person = {} \n",
    "    \n",
    "    # Ask the user for details\n",
    "    person[\"name\"] = input(\"Enter your name: \")\n",
    "    person[\"age\"] = int(input(\"Enter your age: \"))\n",
    "    person[\"favorite_color\"] = input(\"Enter your favorite color: \")\n",
    "    \n",
    "    \n",
    "    print(\"\\nPerson Information:\")\n",
    "    print(person)\n",
    "\n",
    "if __name__ == \"__main__\":\n",
    "    main()"
   ]
  },
  {
   "cell_type": "code",
   "execution_count": 6,
   "id": "43fe6964-92fa-4f42-b730-61b81658814d",
   "metadata": {},
   "outputs": [
    {
     "name": "stdout",
     "output_type": "stream",
     "text": [
      "Create the first set:\n"
     ]
    },
    {
     "name": "stdin",
     "output_type": "stream",
     "text": [
      "How many numbers for first set?  3\n",
      "Enter a number:  1\n",
      "Enter a number:  2\n",
      "Enter a number:  3\n"
     ]
    },
    {
     "name": "stdout",
     "output_type": "stream",
     "text": [
      "\n",
      "Create the second set:\n"
     ]
    },
    {
     "name": "stdin",
     "output_type": "stream",
     "text": [
      "How many numbers for second set?  4\n",
      "Enter a number:  5\n",
      "Enter a number:  4\n",
      "Enter a number:  3\n",
      "Enter a number:  2\n"
     ]
    },
    {
     "name": "stdout",
     "output_type": "stream",
     "text": [
      "\n",
      "Common elements: {2, 3}\n"
     ]
    }
   ],
   "source": [
    "def get_set(prompt):\n",
    "    numbers = set()\n",
    "    count = int(input(f\"How many numbers for {prompt} set? \"))\n",
    "    for _ in range(count):\n",
    "        num = int(input(\"Enter a number: \"))\n",
    "        numbers.add(num)\n",
    "    return numbers\n",
    "\n",
    "\n",
    "def main():\n",
    "    print(\"Create the first set:\")\n",
    "    set1 = get_set(\"first\")\n",
    "    \n",
    "    print(\"\\nCreate the second set:\")\n",
    "    set2 = get_set(\"second\")\n",
    "    \n",
    "    common_elements = set1.intersection(set2)\n",
    "    \n",
    "    print(\"\\nCommon elements:\", common_elements)\n",
    "\n",
    "\n",
    "if __name__ == \"__main__\":\n",
    "    main()\n"
   ]
  },
  {
   "cell_type": "code",
   "execution_count": null,
   "id": "b3151d7f-7cf4-4089-8b11-e523751ab3b5",
   "metadata": {},
   "outputs": [],
   "source": []
  }
 ],
 "metadata": {
  "kernelspec": {
   "display_name": "Python 3 (ipykernel)",
   "language": "python",
   "name": "python3"
  },
  "language_info": {
   "codemirror_mode": {
    "name": "ipython",
    "version": 3
   },
   "file_extension": ".py",
   "mimetype": "text/x-python",
   "name": "python",
   "nbconvert_exporter": "python",
   "pygments_lexer": "ipython3",
   "version": "3.11.7"
  }
 },
 "nbformat": 4,
 "nbformat_minor": 5
}
