{
 "cells": [
  {
   "cell_type": "code",
   "execution_count": 1,
   "id": "dac74020-7378-41f5-b4d2-a740cfe73a55",
   "metadata": {},
   "outputs": [
    {
     "name": "stdin",
     "output_type": "stream",
     "text": [
      "Enter first number:  10\n",
      "Enter second number:  5\n",
      "Enter operation (+, -, *, /):  +\n"
     ]
    },
    {
     "name": "stdout",
     "output_type": "stream",
     "text": [
      "10.0 + 5.0 = 15.0\n"
     ]
    }
   ],
   "source": [
    "def calculator():\n",
    "    try:\n",
    "        # Get user input\n",
    "        num1 = float(input(\"Enter first number: \"))\n",
    "        num2 = float(input(\"Enter second number: \"))\n",
    "        operation = input(\"Enter operation (+, -, *, /): \")\n",
    "        \n",
    "        # Perform calculation\n",
    "        if operation == '+':\n",
    "            result = num1 + num2\n",
    "        elif operation == '-':\n",
    "            result = num1 - num2\n",
    "        elif operation == '*':\n",
    "            result = num1 * num2\n",
    "        elif operation == '/':\n",
    "            if num2 != 0:\n",
    "                result = num1 / num2\n",
    "            else:\n",
    "                print(\"Error: Division by zero is not allowed.\")\n",
    "                return\n",
    "        else:\n",
    "            print(\"Invalid operation. Please enter +, -, *, or /.\")\n",
    "            return\n",
    "        \n",
    "        # Display result\n",
    "        print(f\"{num1} {operation} {num2} = {result}\")\n",
    "    except ValueError:\n",
    "        print(\"Invalid input. Please enter numerical values.\")\n",
    "\n",
    "# Run the calculator\n",
    "calculator()\n"
   ]
  },
  {
   "cell_type": "code",
   "execution_count": null,
   "id": "37079d6d-de67-4fb3-a150-baa90e816aae",
   "metadata": {},
   "outputs": [],
   "source": []
  }
 ],
 "metadata": {
  "kernelspec": {
   "display_name": "Python 3 (ipykernel)",
   "language": "python",
   "name": "python3"
  },
  "language_info": {
   "codemirror_mode": {
    "name": "ipython",
    "version": 3
   },
   "file_extension": ".py",
   "mimetype": "text/x-python",
   "name": "python",
   "nbconvert_exporter": "python",
   "pygments_lexer": "ipython3",
   "version": "3.11.7"
  }
 },
 "nbformat": 4,
 "nbformat_minor": 5
}
