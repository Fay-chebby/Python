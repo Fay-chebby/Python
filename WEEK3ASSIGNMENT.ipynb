{
 "cells": [
  {
   "cell_type": "code",
   "execution_count": 3,
   "id": "ce30309a-59b5-4e09-9103-a0c7e4ad27be",
   "metadata": {},
   "outputs": [
    {
     "name": "stdin",
     "output_type": "stream",
     "text": [
      "Enter the original price of the item:  120\n",
      "Enter the discount percentage:  20\n"
     ]
    },
    {
     "name": "stdout",
     "output_type": "stream",
     "text": [
      "The final price is: 96.0\n"
     ]
    }
   ],
   "source": [
    "def calculate_discounts(price, discount_percentage):\n",
    "    # Check if discount is 20% or higher\n",
    "    if discount_percent >= 20:\n",
    "        # Apply discount\n",
    "        discounted_price = price - (price * (discount_percentage / 100))\n",
    "        return discounted_price\n",
    "    else:\n",
    "        # Return original price if discount is less than 20%\n",
    "        return price\n",
    "\n",
    "# Prompt the user for input\n",
    "price = float(input(\"Enter the original price of the item: \"))\n",
    "discount_percent = float(input(\"Enter the discount percentage: \"))\n",
    "\n",
    "# Calculate the final price using the calculate_discount function\n",
    "final_price = calculate_discounts(price, discount_percent)\n",
    "\n",
    "# Print the final price\n",
    "print(f\"The final price is: {final_price}\")\n"
   ]
  },
  {
   "cell_type": "code",
   "execution_count": null,
   "id": "647258df-7d64-4a93-b16b-9dddce560c91",
   "metadata": {},
   "outputs": [],
   "source": []
  }
 ],
 "metadata": {
  "kernelspec": {
   "display_name": "Python 3 (ipykernel)",
   "language": "python",
   "name": "python3"
  },
  "language_info": {
   "codemirror_mode": {
    "name": "ipython",
    "version": 3
   },
   "file_extension": ".py",
   "mimetype": "text/x-python",
   "name": "python",
   "nbconvert_exporter": "python",
   "pygments_lexer": "ipython3",
   "version": "3.11.7"
  }
 },
 "nbformat": 4,
 "nbformat_minor": 5
}
